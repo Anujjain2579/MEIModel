{
  "cells": [
    {
      "cell_type": "markdown",
      "metadata": {
        "id": "iWzBH0awYJoP"
      },
      "source": [
        "AGRO, ADM, BG, INGR, SANW, FAMI, MGPI, CRESY, CHSCL"
      ]
    },
    {
      "cell_type": "markdown",
      "metadata": {
        "id": "mQhkG8DezHzc"
      },
      "source": [
        "#  Trading Renewable Energy Stocks with MEI Models"
      ]
    },
    {
      "cell_type": "markdown",
      "metadata": {
        "id": "FGEO3JH0zKQk"
      },
      "source": [
        "## Our aim here is to choose our trade position based on MEI - Multivariate ENSO Index. We chose stocks which own renewable energy farms (and not manufacturing devices used for renewable energy). We try modelling MEI using AR / ARIMA / SARIMAX model. Stocks are detrended to focus on seasonality signal by ENSO. We expect to see negative correlation for MEI and stock's price. Hence, based upon model's prediction for future MEI, we choose to short the stock if MEI is >1.5σ (indicating el-nino) and long the stock when MEI recovers <1.25σ . This ensures we have a position that can be comparable to buy & hold while adjusting back positions when climate is suggestive of El-Nino."
      ]
    },
    {
      "cell_type": "markdown",
      "metadata": {
        "id": "3d5tchcIFquv"
      },
      "source": [
        "## Data Sources"
      ]
    },
    {
      "cell_type": "markdown",
      "metadata": {
        "id": "OuD4JUqBFj28"
      },
      "source": [
        "https://psl.noaa.gov/data/correlation/meiv2.csv\n",
        "\n",
        "https://psl.noaa.gov/data/correlation/oni.csv"
      ]
    },
    {
      "cell_type": "markdown",
      "metadata": {
        "id": "bsjr7z9QA4BV"
      },
      "source": [
        "# Time Series Analysis for MEI"
      ]
    },
    {
      "cell_type": "code",
      "execution_count": null,
      "metadata": {
        "id": "HYhd_qL9J3p3"
      },
      "outputs": [],
      "source": [
        "import pandas as pd\n",
        "import numpy as np\n",
        "import matplotlib.pyplot as plt\n",
        "import matplotlib.dates as mdates\n",
        "import yfinance as yf"
      ]
    },
    {
      "cell_type": "code",
      "execution_count": null,
      "metadata": {
        "id": "AAYAz8lfPFDn"
      },
      "outputs": [],
      "source": [
        "from statsmodels.tsa.filters.hp_filter import hpfilter\n",
        "from statsmodels.tsa.ar_model import AutoReg\n",
        "from statsmodels.tsa.arima.model import ARIMA\n",
        "from statsmodels.tsa.statespace.sarimax import SARIMAX\n",
        "from statsmodels.tsa.holtwinters import ExponentialSmoothing\n",
        "from statsmodels.stats.stattools import durbin_watson\n",
        "from statsmodels.stats.diagnostic import acorr_breusch_godfrey"
      ]
    },
    {
      "cell_type": "code",
      "execution_count": null,
      "metadata": {
        "id": "XmYmTBIhTeld"
      },
      "outputs": [],
      "source": [
        "import warnings\n",
        "warnings.filterwarnings(\"ignore\",message=\"Non-invertible starting MA parameters found\")"
      ]
    },
    {
      "cell_type": "code",
      "execution_count": null,
      "metadata": {
        "colab": {
          "base_uri": "https://localhost:8080/",
          "height": 423
        },
        "id": "ivj49G09Kkmu",
        "outputId": "f1fbed02-824b-4e72-8622-7f1faf7fd347"
      },
      "outputs": [
        {
          "data": {
            "application/vnd.google.colaboratory.intrinsic+json": {
              "summary": "{\n  \"name\": \"mei\",\n  \"rows\": 555,\n  \"fields\": [\n    {\n      \"column\": \"Date\",\n      \"properties\": {\n        \"dtype\": \"date\",\n        \"min\": \"1979-01-01 00:00:00\",\n        \"max\": \"2025-03-01 00:00:00\",\n        \"num_unique_values\": 555,\n        \"samples\": [\n          \"1998-04-01 00:00:00\",\n          \"2010-03-01 00:00:00\",\n          \"1983-08-01 00:00:00\"\n        ],\n        \"semantic_type\": \"\",\n        \"description\": \"\"\n      }\n    },\n    {\n      \"column\": \"MEI\",\n      \"properties\": {\n        \"dtype\": \"number\",\n        \"std\": 0.9739948608062382,\n        \"min\": -2.43,\n        \"max\": 2.86,\n        \"num_unique_values\": 292,\n        \"samples\": [\n          1.46,\n          1.93,\n          1.98\n        ],\n        \"semantic_type\": \"\",\n        \"description\": \"\"\n      }\n    }\n  ]\n}",
              "type": "dataframe",
              "variable_name": "mei"
            },
            "text/html": [
              "\n",
              "  <div id=\"df-a34939c6-6b9c-444a-8bc6-1f99e357ef65\" class=\"colab-df-container\">\n",
              "    <div>\n",
              "<style scoped>\n",
              "    .dataframe tbody tr th:only-of-type {\n",
              "        vertical-align: middle;\n",
              "    }\n",
              "\n",
              "    .dataframe tbody tr th {\n",
              "        vertical-align: top;\n",
              "    }\n",
              "\n",
              "    .dataframe thead th {\n",
              "        text-align: right;\n",
              "    }\n",
              "</style>\n",
              "<table border=\"1\" class=\"dataframe\">\n",
              "  <thead>\n",
              "    <tr style=\"text-align: right;\">\n",
              "      <th></th>\n",
              "      <th>Date</th>\n",
              "      <th>MEI</th>\n",
              "    </tr>\n",
              "  </thead>\n",
              "  <tbody>\n",
              "    <tr>\n",
              "      <th>0</th>\n",
              "      <td>1979-01-01</td>\n",
              "      <td>0.47</td>\n",
              "    </tr>\n",
              "    <tr>\n",
              "      <th>1</th>\n",
              "      <td>1979-02-01</td>\n",
              "      <td>0.29</td>\n",
              "    </tr>\n",
              "    <tr>\n",
              "      <th>2</th>\n",
              "      <td>1979-03-01</td>\n",
              "      <td>-0.05</td>\n",
              "    </tr>\n",
              "    <tr>\n",
              "      <th>3</th>\n",
              "      <td>1979-04-01</td>\n",
              "      <td>0.21</td>\n",
              "    </tr>\n",
              "    <tr>\n",
              "      <th>4</th>\n",
              "      <td>1979-05-01</td>\n",
              "      <td>0.27</td>\n",
              "    </tr>\n",
              "    <tr>\n",
              "      <th>...</th>\n",
              "      <td>...</td>\n",
              "      <td>...</td>\n",
              "    </tr>\n",
              "    <tr>\n",
              "      <th>550</th>\n",
              "      <td>2024-11-01</td>\n",
              "      <td>-0.68</td>\n",
              "    </tr>\n",
              "    <tr>\n",
              "      <th>551</th>\n",
              "      <td>2024-12-01</td>\n",
              "      <td>-0.91</td>\n",
              "    </tr>\n",
              "    <tr>\n",
              "      <th>552</th>\n",
              "      <td>2025-01-01</td>\n",
              "      <td>-1.00</td>\n",
              "    </tr>\n",
              "    <tr>\n",
              "      <th>553</th>\n",
              "      <td>2025-02-01</td>\n",
              "      <td>-0.83</td>\n",
              "    </tr>\n",
              "    <tr>\n",
              "      <th>554</th>\n",
              "      <td>2025-03-01</td>\n",
              "      <td>-0.68</td>\n",
              "    </tr>\n",
              "  </tbody>\n",
              "</table>\n",
              "<p>555 rows × 2 columns</p>\n",
              "</div>\n",
              "    <div class=\"colab-df-buttons\">\n",
              "\n",
              "  <div class=\"colab-df-container\">\n",
              "    <button class=\"colab-df-convert\" onclick=\"convertToInteractive('df-a34939c6-6b9c-444a-8bc6-1f99e357ef65')\"\n",
              "            title=\"Convert this dataframe to an interactive table.\"\n",
              "            style=\"display:none;\">\n",
              "\n",
              "  <svg xmlns=\"http://www.w3.org/2000/svg\" height=\"24px\" viewBox=\"0 -960 960 960\">\n",
              "    <path d=\"M120-120v-720h720v720H120Zm60-500h600v-160H180v160Zm220 220h160v-160H400v160Zm0 220h160v-160H400v160ZM180-400h160v-160H180v160Zm440 0h160v-160H620v160ZM180-180h160v-160H180v160Zm440 0h160v-160H620v160Z\"/>\n",
              "  </svg>\n",
              "    </button>\n",
              "\n",
              "  <style>\n",
              "    .colab-df-container {\n",
              "      display:flex;\n",
              "      gap: 12px;\n",
              "    }\n",
              "\n",
              "    .colab-df-convert {\n",
              "      background-color: #E8F0FE;\n",
              "      border: none;\n",
              "      border-radius: 50%;\n",
              "      cursor: pointer;\n",
              "      display: none;\n",
              "      fill: #1967D2;\n",
              "      height: 32px;\n",
              "      padding: 0 0 0 0;\n",
              "      width: 32px;\n",
              "    }\n",
              "\n",
              "    .colab-df-convert:hover {\n",
              "      background-color: #E2EBFA;\n",
              "      box-shadow: 0px 1px 2px rgba(60, 64, 67, 0.3), 0px 1px 3px 1px rgba(60, 64, 67, 0.15);\n",
              "      fill: #174EA6;\n",
              "    }\n",
              "\n",
              "    .colab-df-buttons div {\n",
              "      margin-bottom: 4px;\n",
              "    }\n",
              "\n",
              "    [theme=dark] .colab-df-convert {\n",
              "      background-color: #3B4455;\n",
              "      fill: #D2E3FC;\n",
              "    }\n",
              "\n",
              "    [theme=dark] .colab-df-convert:hover {\n",
              "      background-color: #434B5C;\n",
              "      box-shadow: 0px 1px 3px 1px rgba(0, 0, 0, 0.15);\n",
              "      filter: drop-shadow(0px 1px 2px rgba(0, 0, 0, 0.3));\n",
              "      fill: #FFFFFF;\n",
              "    }\n",
              "  </style>\n",
              "\n",
              "    <script>\n",
              "      const buttonEl =\n",
              "        document.querySelector('#df-a34939c6-6b9c-444a-8bc6-1f99e357ef65 button.colab-df-convert');\n",
              "      buttonEl.style.display =\n",
              "        google.colab.kernel.accessAllowed ? 'block' : 'none';\n",
              "\n",
              "      async function convertToInteractive(key) {\n",
              "        const element = document.querySelector('#df-a34939c6-6b9c-444a-8bc6-1f99e357ef65');\n",
              "        const dataTable =\n",
              "          await google.colab.kernel.invokeFunction('convertToInteractive',\n",
              "                                                    [key], {});\n",
              "        if (!dataTable) return;\n",
              "\n",
              "        const docLinkHtml = 'Like what you see? Visit the ' +\n",
              "          '<a target=\"_blank\" href=https://colab.research.google.com/notebooks/data_table.ipynb>data table notebook</a>'\n",
              "          + ' to learn more about interactive tables.';\n",
              "        element.innerHTML = '';\n",
              "        dataTable['output_type'] = 'display_data';\n",
              "        await google.colab.output.renderOutput(dataTable, element);\n",
              "        const docLink = document.createElement('div');\n",
              "        docLink.innerHTML = docLinkHtml;\n",
              "        element.appendChild(docLink);\n",
              "      }\n",
              "    </script>\n",
              "  </div>\n",
              "\n",
              "\n",
              "    <div id=\"df-5d9ec996-e1f6-42ec-b78e-5c6ea894301e\">\n",
              "      <button class=\"colab-df-quickchart\" onclick=\"quickchart('df-5d9ec996-e1f6-42ec-b78e-5c6ea894301e')\"\n",
              "                title=\"Suggest charts\"\n",
              "                style=\"display:none;\">\n",
              "\n",
              "<svg xmlns=\"http://www.w3.org/2000/svg\" height=\"24px\"viewBox=\"0 0 24 24\"\n",
              "     width=\"24px\">\n",
              "    <g>\n",
              "        <path d=\"M19 3H5c-1.1 0-2 .9-2 2v14c0 1.1.9 2 2 2h14c1.1 0 2-.9 2-2V5c0-1.1-.9-2-2-2zM9 17H7v-7h2v7zm4 0h-2V7h2v10zm4 0h-2v-4h2v4z\"/>\n",
              "    </g>\n",
              "</svg>\n",
              "      </button>\n",
              "\n",
              "<style>\n",
              "  .colab-df-quickchart {\n",
              "      --bg-color: #E8F0FE;\n",
              "      --fill-color: #1967D2;\n",
              "      --hover-bg-color: #E2EBFA;\n",
              "      --hover-fill-color: #174EA6;\n",
              "      --disabled-fill-color: #AAA;\n",
              "      --disabled-bg-color: #DDD;\n",
              "  }\n",
              "\n",
              "  [theme=dark] .colab-df-quickchart {\n",
              "      --bg-color: #3B4455;\n",
              "      --fill-color: #D2E3FC;\n",
              "      --hover-bg-color: #434B5C;\n",
              "      --hover-fill-color: #FFFFFF;\n",
              "      --disabled-bg-color: #3B4455;\n",
              "      --disabled-fill-color: #666;\n",
              "  }\n",
              "\n",
              "  .colab-df-quickchart {\n",
              "    background-color: var(--bg-color);\n",
              "    border: none;\n",
              "    border-radius: 50%;\n",
              "    cursor: pointer;\n",
              "    display: none;\n",
              "    fill: var(--fill-color);\n",
              "    height: 32px;\n",
              "    padding: 0;\n",
              "    width: 32px;\n",
              "  }\n",
              "\n",
              "  .colab-df-quickchart:hover {\n",
              "    background-color: var(--hover-bg-color);\n",
              "    box-shadow: 0 1px 2px rgba(60, 64, 67, 0.3), 0 1px 3px 1px rgba(60, 64, 67, 0.15);\n",
              "    fill: var(--button-hover-fill-color);\n",
              "  }\n",
              "\n",
              "  .colab-df-quickchart-complete:disabled,\n",
              "  .colab-df-quickchart-complete:disabled:hover {\n",
              "    background-color: var(--disabled-bg-color);\n",
              "    fill: var(--disabled-fill-color);\n",
              "    box-shadow: none;\n",
              "  }\n",
              "\n",
              "  .colab-df-spinner {\n",
              "    border: 2px solid var(--fill-color);\n",
              "    border-color: transparent;\n",
              "    border-bottom-color: var(--fill-color);\n",
              "    animation:\n",
              "      spin 1s steps(1) infinite;\n",
              "  }\n",
              "\n",
              "  @keyframes spin {\n",
              "    0% {\n",
              "      border-color: transparent;\n",
              "      border-bottom-color: var(--fill-color);\n",
              "      border-left-color: var(--fill-color);\n",
              "    }\n",
              "    20% {\n",
              "      border-color: transparent;\n",
              "      border-left-color: var(--fill-color);\n",
              "      border-top-color: var(--fill-color);\n",
              "    }\n",
              "    30% {\n",
              "      border-color: transparent;\n",
              "      border-left-color: var(--fill-color);\n",
              "      border-top-color: var(--fill-color);\n",
              "      border-right-color: var(--fill-color);\n",
              "    }\n",
              "    40% {\n",
              "      border-color: transparent;\n",
              "      border-right-color: var(--fill-color);\n",
              "      border-top-color: var(--fill-color);\n",
              "    }\n",
              "    60% {\n",
              "      border-color: transparent;\n",
              "      border-right-color: var(--fill-color);\n",
              "    }\n",
              "    80% {\n",
              "      border-color: transparent;\n",
              "      border-right-color: var(--fill-color);\n",
              "      border-bottom-color: var(--fill-color);\n",
              "    }\n",
              "    90% {\n",
              "      border-color: transparent;\n",
              "      border-bottom-color: var(--fill-color);\n",
              "    }\n",
              "  }\n",
              "</style>\n",
              "\n",
              "      <script>\n",
              "        async function quickchart(key) {\n",
              "          const quickchartButtonEl =\n",
              "            document.querySelector('#' + key + ' button');\n",
              "          quickchartButtonEl.disabled = true;  // To prevent multiple clicks.\n",
              "          quickchartButtonEl.classList.add('colab-df-spinner');\n",
              "          try {\n",
              "            const charts = await google.colab.kernel.invokeFunction(\n",
              "                'suggestCharts', [key], {});\n",
              "          } catch (error) {\n",
              "            console.error('Error during call to suggestCharts:', error);\n",
              "          }\n",
              "          quickchartButtonEl.classList.remove('colab-df-spinner');\n",
              "          quickchartButtonEl.classList.add('colab-df-quickchart-complete');\n",
              "        }\n",
              "        (() => {\n",
              "          let quickchartButtonEl =\n",
              "            document.querySelector('#df-5d9ec996-e1f6-42ec-b78e-5c6ea894301e button');\n",
              "          quickchartButtonEl.style.display =\n",
              "            google.colab.kernel.accessAllowed ? 'block' : 'none';\n",
              "        })();\n",
              "      </script>\n",
              "    </div>\n",
              "\n",
              "  <div id=\"id_bde56a0c-aa5d-4588-88af-80b5af8e20b8\">\n",
              "    <style>\n",
              "      .colab-df-generate {\n",
              "        background-color: #E8F0FE;\n",
              "        border: none;\n",
              "        border-radius: 50%;\n",
              "        cursor: pointer;\n",
              "        display: none;\n",
              "        fill: #1967D2;\n",
              "        height: 32px;\n",
              "        padding: 0 0 0 0;\n",
              "        width: 32px;\n",
              "      }\n",
              "\n",
              "      .colab-df-generate:hover {\n",
              "        background-color: #E2EBFA;\n",
              "        box-shadow: 0px 1px 2px rgba(60, 64, 67, 0.3), 0px 1px 3px 1px rgba(60, 64, 67, 0.15);\n",
              "        fill: #174EA6;\n",
              "      }\n",
              "\n",
              "      [theme=dark] .colab-df-generate {\n",
              "        background-color: #3B4455;\n",
              "        fill: #D2E3FC;\n",
              "      }\n",
              "\n",
              "      [theme=dark] .colab-df-generate:hover {\n",
              "        background-color: #434B5C;\n",
              "        box-shadow: 0px 1px 3px 1px rgba(0, 0, 0, 0.15);\n",
              "        filter: drop-shadow(0px 1px 2px rgba(0, 0, 0, 0.3));\n",
              "        fill: #FFFFFF;\n",
              "      }\n",
              "    </style>\n",
              "    <button class=\"colab-df-generate\" onclick=\"generateWithVariable('mei')\"\n",
              "            title=\"Generate code using this dataframe.\"\n",
              "            style=\"display:none;\">\n",
              "\n",
              "  <svg xmlns=\"http://www.w3.org/2000/svg\" height=\"24px\"viewBox=\"0 0 24 24\"\n",
              "       width=\"24px\">\n",
              "    <path d=\"M7,19H8.4L18.45,9,17,7.55,7,17.6ZM5,21V16.75L18.45,3.32a2,2,0,0,1,2.83,0l1.4,1.43a1.91,1.91,0,0,1,.58,1.4,1.91,1.91,0,0,1-.58,1.4L9.25,21ZM18.45,9,17,7.55Zm-12,3A5.31,5.31,0,0,0,4.9,8.1,5.31,5.31,0,0,0,1,6.5,5.31,5.31,0,0,0,4.9,4.9,5.31,5.31,0,0,0,6.5,1,5.31,5.31,0,0,0,8.1,4.9,5.31,5.31,0,0,0,12,6.5,5.46,5.46,0,0,0,6.5,12Z\"/>\n",
              "  </svg>\n",
              "    </button>\n",
              "    <script>\n",
              "      (() => {\n",
              "      const buttonEl =\n",
              "        document.querySelector('#id_bde56a0c-aa5d-4588-88af-80b5af8e20b8 button.colab-df-generate');\n",
              "      buttonEl.style.display =\n",
              "        google.colab.kernel.accessAllowed ? 'block' : 'none';\n",
              "\n",
              "      buttonEl.onclick = () => {\n",
              "        google.colab.notebook.generateWithVariable('mei');\n",
              "      }\n",
              "      })();\n",
              "    </script>\n",
              "  </div>\n",
              "\n",
              "    </div>\n",
              "  </div>\n"
            ],
            "text/plain": [
              "          Date   MEI\n",
              "0   1979-01-01  0.47\n",
              "1   1979-02-01  0.29\n",
              "2   1979-03-01 -0.05\n",
              "3   1979-04-01  0.21\n",
              "4   1979-05-01  0.27\n",
              "..         ...   ...\n",
              "550 2024-11-01 -0.68\n",
              "551 2024-12-01 -0.91\n",
              "552 2025-01-01 -1.00\n",
              "553 2025-02-01 -0.83\n",
              "554 2025-03-01 -0.68\n",
              "\n",
              "[555 rows x 2 columns]"
            ]
          },
          "execution_count": 5,
          "metadata": {},
          "output_type": "execute_result"
        }
      ],
      "source": [
        "mei = pd.read_csv('meiv2.csv')\n",
        "mei['Date'] = pd.to_datetime(mei['Date'], format='%m/%d/%y')\n",
        "mei = mei.rename(columns={'Multivariate ENSO Index': 'MEI'})\n",
        "mei"
      ]
    },
    {
      "cell_type": "code",
      "execution_count": null,
      "metadata": {
        "id": "4xSlKlIFcDco"
      },
      "outputs": [],
      "source": [
        "mei.set_index('Date', inplace=True)\n",
        "mei.index.freq = 'MS'"
      ]
    },
    {
      "cell_type": "code",
      "execution_count": null,
      "metadata": {
        "colab": {
          "base_uri": "https://localhost:8080/",
          "height": 410
        },
        "id": "FJrOiDbHcHp1",
        "outputId": "29e04f3b-f17d-4ddb-bcb7-5351836e6ade"
      },
      "outputs": [
        {
          "data": {
            "image/png": "[encoded data removed]",
            "text/plain": [
              "<Figure size 1000x400 with 1 Axes>"
            ]
          },
          "metadata": {},
          "output_type": "display_data"
        }
      ],
      "source": [
        "mei['MEI'].plot(title='Multivariate ENSO Index (MEI 3-month rolling avg)', figsize=(10,4))\n",
        "plt.ylabel('Multivariate ENSO Index')\n",
        "plt.show()"
      ]
    },
    {
      "cell_type": "code",
      "execution_count": null,
      "metadata": {
        "colab": {
          "base_uri": "https://localhost:8080/"
        },
        "id": "gLdpqgTSO31h",
        "outputId": "da04fab0-cf9c-4cb0-d7f3-470017899939"
      },
      "outputs": [
        {
          "name": "stdout",
          "output_type": "stream",
          "text": [
            "Best AR(6) by AIC = 175.56\n",
            "                            AutoReg Model Results                             \n",
            "==============================================================================\n",
            "Dep. Variable:                    MEI   No. Observations:                  555\n",
            "Model:                     AutoReg(6)   Log Likelihood                 -79.778\n",
            "Method:               Conditional MLE   S.D. of innovations              0.280\n",
            "Date:                Tue, 03 Jun 2025   AIC                            175.556\n",
            "Time:                        04:28:24   BIC                            210.021\n",
            "Sample:                    07-01-1979   HQIC                           189.025\n",
            "                         - 03-01-2025                                         \n",
            "==============================================================================\n",
            "                 coef    std err          z      P>|z|      [0.025      0.975]\n",
            "------------------------------------------------------------------------------\n",
            "const         -0.0055      0.012     -0.462      0.644      -0.029       0.018\n",
            "MEI.L1         1.4418      0.042     33.986      0.000       1.359       1.525\n",
            "MEI.L2        -0.8211      0.074    -11.096      0.000      -0.966      -0.676\n",
            "MEI.L3         0.6283      0.079      7.919      0.000       0.473       0.784\n",
            "MEI.L4        -0.4699      0.079     -5.935      0.000      -0.625      -0.315\n",
            "MEI.L5         0.2424      0.074      3.286      0.001       0.098       0.387\n",
            "MEI.L6        -0.1035      0.042     -2.444      0.015      -0.187      -0.021\n",
            "                                    Roots                                    \n",
            "=============================================================================\n",
            "                  Real          Imaginary           Modulus         Frequency\n",
            "-----------------------------------------------------------------------------\n",
            "AR.1           -0.7313           -1.2800j            1.4742           -0.3326\n",
            "AR.2           -0.7313           +1.2800j            1.4742            0.3326\n",
            "AR.3            1.1855           -0.1726j            1.1980           -0.0230\n",
            "AR.4            1.1855           +0.1726j            1.1980            0.0230\n",
            "AR.5            0.7165           -1.6072j            1.7596           -0.1833\n",
            "AR.6            0.7165           +1.6072j            1.7596            0.1833\n",
            "-----------------------------------------------------------------------------\n"
          ]
        }
      ],
      "source": [
        "aic_ar = {}\n",
        "for p in range(1, 13):\n",
        "    m = AutoReg(mei['MEI'], lags=p, old_names=False).fit()\n",
        "    aic_ar[p] = m.aic\n",
        "\n",
        "best_p = min(aic_ar, key=aic_ar.get)\n",
        "print(f\"Best AR({best_p}) by AIC = {aic_ar[best_p]:.2f}\")\n",
        "ar_model = AutoReg(mei['MEI'], lags=best_p, old_names=False).fit()\n",
        "print(ar_model.summary())"
      ]
    },
    {
      "cell_type": "code",
      "execution_count": null,
      "metadata": {
        "colab": {
          "base_uri": "https://localhost:8080/"
        },
        "id": "FWpNyIKKSfcc",
        "outputId": "10e6addf-4eae-4857-8f4a-95500b68c996"
      },
      "outputs": [
        {
          "name": "stdout",
          "output_type": "stream",
          "text": [
            "Best AR(4) by BIC = 207.67\n",
            "                            AutoReg Model Results                             \n",
            "==============================================================================\n",
            "Dep. Variable:                    MEI   No. Observations:                  555\n",
            "Model:                     AutoReg(4)   Log Likelihood                 -84.902\n",
            "Method:               Conditional MLE   S.D. of innovations              0.282\n",
            "Date:                Tue, 03 Jun 2025   AIC                            181.803\n",
            "Time:                        04:28:24   BIC                            207.673\n",
            "Sample:                    05-01-1979   HQIC                           191.912\n",
            "                         - 03-01-2025                                         \n",
            "==============================================================================\n",
            "                 coef    std err          z      P>|z|      [0.025      0.975]\n",
            "------------------------------------------------------------------------------\n",
            "const         -0.0061      0.012     -0.508      0.612      -0.030       0.018\n",
            "MEI.L1         1.4072      0.041     34.253      0.000       1.327       1.488\n",
            "MEI.L2        -0.7339      0.069    -10.593      0.000      -0.870      -0.598\n",
            "MEI.L3         0.5029      0.069      7.258      0.000       0.367       0.639\n",
            "MEI.L4        -0.2586      0.041     -6.295      0.000      -0.339      -0.178\n",
            "                                    Roots                                    \n",
            "=============================================================================\n",
            "                  Real          Imaginary           Modulus         Frequency\n",
            "-----------------------------------------------------------------------------\n",
            "AR.1           -0.2502           -1.5732j            1.5930           -0.2751\n",
            "AR.2           -0.2502           +1.5732j            1.5930            0.2751\n",
            "AR.3            1.2224           -0.1717j            1.2344           -0.0222\n",
            "AR.4            1.2224           +0.1717j            1.2344            0.0222\n",
            "-----------------------------------------------------------------------------\n"
          ]
        }
      ],
      "source": [
        "bic_ar = {}\n",
        "for p in range(1, 13):\n",
        "    m = AutoReg(mei['MEI'], lags=p, old_names=False).fit()\n",
        "    bic_ar[p] = m.bic\n",
        "\n",
        "# find the p with smallest BIC\n",
        "best_p_bic = min(bic_ar, key=bic_ar.get)\n",
        "print(f\"Best AR({best_p_bic}) by BIC = {bic_ar[best_p_bic]:.2f}\")\n",
        "\n",
        "# fit & summarize\n",
        "ar_model_bic = AutoReg(mei['MEI'], lags=best_p_bic, old_names=False).fit()\n",
        "print(ar_model_bic.summary())\n"
      ]
    },
    {
      "cell_type": "code",
      "execution_count": null,
      "metadata": {
        "colab": {
          "base_uri": "https://localhost:8080/"
        },
        "id": "xkIRkiV6QN7Z",
        "outputId": "3c3f1b68-ad6a-412e-caea-2c7f9b4e5a3d"
      },
      "outputs": [
        {
          "name": "stdout",
          "output_type": "stream",
          "text": [
            "\n",
            "Best ARIMA(2, 0, 2) by AIC = 186.80\n",
            "                               SARIMAX Results                                \n",
            "==============================================================================\n",
            "Dep. Variable:                    MEI   No. Observations:                  555\n",
            "Model:                 ARIMA(2, 0, 2)   Log Likelihood                 -87.401\n",
            "Date:                Tue, 03 Jun 2025   AIC                            186.802\n",
            "Time:                        04:28:39   BIC                            212.716\n",
            "Sample:                    01-01-1979   HQIC                           196.925\n",
            "                         - 03-01-2025                                         \n",
            "Covariance Type:                  opg                                         \n",
            "==============================================================================\n",
            "                 coef    std err          z      P>|z|      [0.025      0.975]\n",
            "------------------------------------------------------------------------------\n",
            "const         -0.0639      0.121     -0.529      0.597      -0.301       0.173\n",
            "ar.L1          1.8340      0.069     26.711      0.000       1.699       1.969\n",
            "ar.L2         -0.8484      0.060    -14.175      0.000      -0.966      -0.731\n",
            "ma.L1         -0.3401      0.075     -4.505      0.000      -0.488      -0.192\n",
            "ma.L2         -0.5240      0.058     -9.097      0.000      -0.637      -0.411\n",
            "sigma2         0.0798      0.004     21.125      0.000       0.072       0.087\n",
            "===================================================================================\n",
            "Ljung-Box (L1) (Q):                   2.15   Jarque-Bera (JB):               127.66\n",
            "Prob(Q):                              0.14   Prob(JB):                         0.00\n",
            "Heteroskedasticity (H):               0.91   Skew:                            -0.05\n",
            "Prob(H) (two-sided):                  0.52   Kurtosis:                         5.35\n",
            "===================================================================================\n",
            "\n",
            "Warnings:\n",
            "[1] Covariance matrix calculated using the outer product of gradients (complex-step).\n"
          ]
        }
      ],
      "source": [
        "# 3) ARIMA(p,d,q) grid search by AIC\n",
        "aic_ari = {}\n",
        "for p in range(3):\n",
        "    for d in [0,1]:\n",
        "        for q in range(3):\n",
        "            m = ARIMA(mei['MEI'], order=(p,d,q), enforce_stationarity=True, enforce_invertibility=True).fit()\n",
        "            aic_ari[(p,d,q)] = m.aic\n",
        "\n",
        "best_ari = min(aic_ari, key=aic_ari.get)\n",
        "print(f\"\\nBest ARIMA{best_ari} by AIC = {aic_ari[best_ari]:.2f}\")\n",
        "ari_model = ARIMA(mei['MEI'], order=best_ari).fit()\n",
        "print(ari_model.summary())"
      ]
    },
    {
      "cell_type": "code",
      "execution_count": null,
      "metadata": {
        "colab": {
          "base_uri": "https://localhost:8080/"
        },
        "id": "5jrGkiQ9TCrm",
        "outputId": "ae934d75-245b-49c5-9d3b-809bcbd67198"
      },
      "outputs": [
        {
          "name": "stdout",
          "output_type": "stream",
          "text": [
            "Best ARIMA by BIC: (1, 0, 1) 205.05668520220212\n"
          ]
        }
      ],
      "source": [
        "# ARIMA by BIC\n",
        "bic_ari = {}\n",
        "for p in range(3):\n",
        "    for d in (0,1):\n",
        "        for q in range(3):\n",
        "            m = ARIMA(mei['MEI'], order=(p,d,q),\n",
        "                        enforce_stationarity=True,\n",
        "                        enforce_invertibility=True).fit()\n",
        "            bic_ari[(p,d,q)] = m.bic\n",
        "\n",
        "best_ari_bic = min(bic_ari, key=bic_ari.get)\n",
        "print(\"Best ARIMA by BIC:\", best_ari_bic, bic_ari[best_ari_bic])"
      ]
    },
    {
      "cell_type": "code",
      "execution_count": null,
      "metadata": {
        "colab": {
          "base_uri": "https://localhost:8080/"
        },
        "id": "DiS1_tHGWPXD",
        "outputId": "9554fe66-81c4-456b-ca9a-fcaf357ad7bf"
      },
      "outputs": [
        {
          "name": "stdout",
          "output_type": "stream",
          "text": [
            "                               SARIMAX Results                                \n",
            "==============================================================================\n",
            "Dep. Variable:                    MEI   No. Observations:                  555\n",
            "Model:                 ARIMA(1, 0, 1)   Log Likelihood                 -89.890\n",
            "Date:                Tue, 03 Jun 2025   AIC                            187.781\n",
            "Time:                        04:28:56   BIC                            205.057\n",
            "Sample:                    01-01-1979   HQIC                           194.529\n",
            "                         - 03-01-2025                                         \n",
            "Covariance Type:                  opg                                         \n",
            "==============================================================================\n",
            "                 coef    std err          z      P>|z|      [0.025      0.975]\n",
            "------------------------------------------------------------------------------\n",
            "const         -0.0651      0.185     -0.352      0.725      -0.428       0.297\n",
            "ar.L1          0.8903      0.018     49.001      0.000       0.855       0.926\n",
            "ma.L1          0.5944      0.030     20.042      0.000       0.536       0.653\n",
            "sigma2         0.0805      0.004     22.797      0.000       0.074       0.087\n",
            "===================================================================================\n",
            "Ljung-Box (L1) (Q):                   0.86   Jarque-Bera (JB):               152.11\n",
            "Prob(Q):                              0.35   Prob(JB):                         0.00\n",
            "Heteroskedasticity (H):               0.91   Skew:                            -0.06\n",
            "Prob(H) (two-sided):                  0.50   Kurtosis:                         5.56\n",
            "===================================================================================\n",
            "\n",
            "Warnings:\n",
            "[1] Covariance matrix calculated using the outer product of gradients (complex-step).\n"
          ]
        }
      ],
      "source": [
        "ari_model_bic = ARIMA(mei['MEI'], order=best_ari_bic).fit()\n",
        "print(ari_model_bic.summary())"
      ]
    },
    {
      "cell_type": "code",
      "execution_count": null,
      "metadata": {
        "colab": {
          "base_uri": "https://localhost:8080/"
        },
        "id": "MpzMD4ApP5O5",
        "outputId": "8c5ba819-322e-4df4-ff06-94f54d864f96"
      },
      "outputs": [
        {
          "name": "stdout",
          "output_type": "stream",
          "text": [
            "\n",
            "Best SARIMAX((1, 0, 1), (1, 0, 1, 12)) by AIC = 185.79\n",
            "                                     SARIMAX Results                                      \n",
            "==========================================================================================\n",
            "Dep. Variable:                                MEI   No. Observations:                  555\n",
            "Model:             SARIMAX(1, 0, 1)x(1, 0, 1, 12)   Log Likelihood                 -87.895\n",
            "Date:                            Tue, 03 Jun 2025   AIC                            185.790\n",
            "Time:                                    04:29:08   BIC                            207.257\n",
            "Sample:                                01-01-1979   HQIC                           194.185\n",
            "                                     - 03-01-2025                                         \n",
            "Covariance Type:                              opg                                         \n",
            "==============================================================================\n",
            "                 coef    std err          z      P>|z|      [0.025      0.975]\n",
            "------------------------------------------------------------------------------\n",
            "ar.L1          0.8952      0.018     48.417      0.000       0.859       0.931\n",
            "ma.L1          0.5881      0.030     19.352      0.000       0.529       0.648\n",
            "ar.S.L12      -0.1187      0.433     -0.274      0.784      -0.968       0.730\n",
            "ma.S.L12       0.0871      0.436      0.200      0.842      -0.767       0.941\n",
            "sigma2         0.0809      0.004     21.614      0.000       0.074       0.088\n",
            "===================================================================================\n",
            "Ljung-Box (L1) (Q):                   0.86   Jarque-Bera (JB):               142.62\n",
            "Prob(Q):                              0.35   Prob(JB):                         0.00\n",
            "Heteroskedasticity (H):               0.87   Skew:                            -0.05\n",
            "Prob(H) (two-sided):                  0.35   Kurtosis:                         5.51\n",
            "===================================================================================\n",
            "\n",
            "Warnings:\n",
            "[1] Covariance matrix calculated using the outer product of gradients (complex-step).\n"
          ]
        }
      ],
      "source": [
        "# 4) SARIMAX seasonal grid by AIC\n",
        "aic_sx = {}\n",
        "pdq_choices = [(1,0,1), (0,1,1), (1,1,1)]\n",
        "seasonal_choices = [(1,0,1,12), (0,1,1,12), (1,1,1,12)]\n",
        "for pdq in pdq_choices:\n",
        "    for s in seasonal_choices:\n",
        "        m = SARIMAX(mei['MEI'], order=pdq, seasonal_order=s,\n",
        "                    enforce_stationarity=False, enforce_invertibility=False).fit(disp=False)\n",
        "        aic_sx[(pdq,s)] = m.aic\n",
        "\n",
        "best_sx = min(aic_sx, key=aic_sx.get)\n",
        "print(f\"\\nBest SARIMAX{best_sx} by AIC = {aic_sx[best_sx]:.2f}\")\n",
        "sx_model = SARIMAX(mei['MEI'], order=best_sx[0], seasonal_order=best_sx[1],\n",
        "                   enforce_stationarity=False, enforce_invertibility=False).fit(disp=False)\n",
        "print(sx_model.summary())"
      ]
    },
    {
      "cell_type": "code",
      "execution_count": null,
      "metadata": {
        "colab": {
          "base_uri": "https://localhost:8080/"
        },
        "id": "NDZCHsxoTO7X",
        "outputId": "8e1d6dd9-22de-4e18-facf-bf501ba0d338"
      },
      "outputs": [
        {
          "name": "stdout",
          "output_type": "stream",
          "text": [
            "Best SARIMAX by BIC: ((1, 0, 1), (1, 0, 1, 12)) 208.45663989135068\n"
          ]
        }
      ],
      "source": [
        "# SARIMAX by BIC\n",
        "bic_sx = {}\n",
        "for pdq in pdq_choices:\n",
        "    for seas in seasonal_choices:\n",
        "        m = SARIMAX(mei['MEI'],\n",
        "                    order=pdq,\n",
        "                    seasonal_order=seas,\n",
        "                    enforce_stationarity=True,\n",
        "                    enforce_invertibility=True).fit(disp=False)\n",
        "        bic_sx[(pdq, seas)] = m.bic\n",
        "\n",
        "best_sx_bic = min(bic_sx, key=bic_sx.get)\n",
        "print(\"Best SARIMAX by BIC:\", best_sx_bic, bic_sx[best_sx_bic])"
      ]
    },
    {
      "cell_type": "code",
      "execution_count": null,
      "metadata": {
        "colab": {
          "base_uri": "https://localhost:8080/"
        },
        "id": "s2gbZTk1Wh2q",
        "outputId": "c5fbab91-c493-4d0c-a566-3be7a0165903"
      },
      "outputs": [
        {
          "name": "stdout",
          "output_type": "stream",
          "text": [
            "                                     SARIMAX Results                                      \n",
            "==========================================================================================\n",
            "Dep. Variable:                                MEI   No. Observations:                  555\n",
            "Model:             SARIMAX(1, 0, 1)x(1, 0, 1, 12)   Log Likelihood                 -87.895\n",
            "Date:                            Tue, 03 Jun 2025   AIC                            185.790\n",
            "Time:                                    04:29:29   BIC                            207.257\n",
            "Sample:                                01-01-1979   HQIC                           194.185\n",
            "                                     - 03-01-2025                                         \n",
            "Covariance Type:                              opg                                         \n",
            "==============================================================================\n",
            "                 coef    std err          z      P>|z|      [0.025      0.975]\n",
            "------------------------------------------------------------------------------\n",
            "ar.L1          0.8952      0.018     48.417      0.000       0.859       0.931\n",
            "ma.L1          0.5881      0.030     19.352      0.000       0.529       0.648\n",
            "ar.S.L12      -0.1187      0.433     -0.274      0.784      -0.968       0.730\n",
            "ma.S.L12       0.0871      0.436      0.200      0.842      -0.767       0.941\n",
            "sigma2         0.0809      0.004     21.614      0.000       0.074       0.088\n",
            "===================================================================================\n",
            "Ljung-Box (L1) (Q):                   0.86   Jarque-Bera (JB):               142.62\n",
            "Prob(Q):                              0.35   Prob(JB):                         0.00\n",
            "Heteroskedasticity (H):               0.87   Skew:                            -0.05\n",
            "Prob(H) (two-sided):                  0.35   Kurtosis:                         5.51\n",
            "===================================================================================\n",
            "\n",
            "Warnings:\n",
            "[1] Covariance matrix calculated using the outer product of gradients (complex-step).\n"
          ]
        }
      ],
      "source": [
        "sx_model_bic = SARIMAX(mei['MEI'], order=best_sx_bic[0], seasonal_order=best_sx_bic[1],\n",
        "                   enforce_stationarity=False, enforce_invertibility=False).fit(disp=False)\n",
        "print(sx_model_bic.summary())"
      ]
    },
    {
      "cell_type": "code",
      "execution_count": null,
      "metadata": {
        "colab": {
          "base_uri": "https://localhost:8080/"
        },
        "id": "TfAbUx8uT07N",
        "outputId": "11fdf200-dc34-45e4-ed44-fb3b7f2a8019"
      },
      "outputs": [
        {
          "name": "stdout",
          "output_type": "stream",
          "text": [
            "\n",
            "Holt–Winters SSE = 58.32\n"
          ]
        }
      ],
      "source": [
        "# 5) Holt–Winters additive seasonal\n",
        "hw_model = ExponentialSmoothing(mei['MEI'], trend='add',\n",
        "                                seasonal='add', seasonal_periods=12).fit()\n",
        "print(f\"\\nHolt–Winters SSE = {hw_model.sse:.2f}\")"
      ]
    },
    {
      "cell_type": "code",
      "execution_count": null,
      "metadata": {
        "colab": {
          "base_uri": "https://localhost:8080/"
        },
        "id": "qKaG38O2QDeU",
        "outputId": "cc0f069f-a00a-47d1-de54-726e0ea5500b"
      },
      "outputs": [
        {
          "name": "stdout",
          "output_type": "stream",
          "text": [
            "\n",
            "Conclusion:\n",
            "- AR(6) AIC = 175.56\n",
            "- ARIMA(2, 0, 2) AIC = 186.80\n",
            "- SARIMAX((1, 0, 1), (1, 0, 1, 12)) AIC = 185.79\n",
            "By BIC\n",
            "- AR(4) BIC = 207.67\n",
            "- ARIMA(1, 0, 1) BIC = 205.06\n",
            "- SARIMAX((1, 0, 1), (1, 0, 1, 12)) BIC = 208.46\n",
            "- Holt–Winters SSE = 58.32\n"
          ]
        }
      ],
      "source": [
        "# 6) Conclusion\n",
        "print(\"\\nConclusion:\")\n",
        "print(f\"- AR({best_p}) AIC = {aic_ar[best_p]:.2f}\")\n",
        "print(f\"- ARIMA{best_ari} AIC = {aic_ari[best_ari]:.2f}\")\n",
        "print(f\"- SARIMAX{best_sx} AIC = {aic_sx[best_sx]:.2f}\")\n",
        "print(\"By BIC\")\n",
        "print(f\"- AR({best_p_bic}) BIC = {bic_ar[best_p_bic]:.2f}\")\n",
        "print(f\"- ARIMA{best_ari_bic} BIC = {bic_ari[best_ari_bic]:.2f}\")\n",
        "print(f\"- SARIMAX{best_sx_bic} BIC = {bic_sx[best_sx_bic]:.2f}\")\n",
        "print(f\"- Holt–Winters SSE = {hw_model.sse:.2f}\")"
      ]
    },
    {
      "cell_type": "code",
      "execution_count": null,
      "metadata": {
        "colab": {
          "base_uri": "https://localhost:8080/"
        },
        "id": "a3iOP2PWVM18",
        "outputId": "cba08f02-9752-435b-e388-788e4cb08eb1"
      },
      "outputs": [
        {
          "name": "stdout",
          "output_type": "stream",
          "text": [
            "\n",
            "=== AR Model ===\n",
            "Durbin–Watson statistic: 2.003\n",
            "  → Interpretation: little to no autocorrelation\n",
            "Breusch–Godfrey LM stat: 5.84, p‐value: 0.924\n",
            "  → Interpretation: fail to reject H0 → no evidence of autocorrelation\n",
            "\n",
            "=== ARIMA Model ===\n",
            "Durbin–Watson statistic: 2.120\n",
            "  → Interpretation: little to no autocorrelation\n",
            "Breusch–Godfrey LM stat: 14.67, p‐value: 0.260\n",
            "  → Interpretation: fail to reject H0 → no evidence of autocorrelation\n",
            "\n",
            "=== SARIMAX Model ===\n",
            "Durbin–Watson statistic: 2.078\n",
            "  → Interpretation: little to no autocorrelation\n",
            "Breusch–Godfrey LM stat: 16.67, p‐value: 0.163\n",
            "  → Interpretation: fail to reject H0 → no evidence of autocorrelation\n"
          ]
        }
      ],
      "source": [
        "# AIC based DW and Breusch–Godfrey LM Test\n",
        "fitted = {\n",
        "    'AR':       ar_model,\n",
        "    'ARIMA':    ari_model,\n",
        "    'SARIMAX':  sx_model\n",
        "}\n",
        "\n",
        "for name, res in fitted.items():\n",
        "    print(f\"\\n=== {name} Model ===\")\n",
        "\n",
        "    # 1) Durbin–Watson\n",
        "    dw = durbin_watson(res.resid)\n",
        "    print(f\"Durbin–Watson statistic: {dw:.3f}\")\n",
        "    if    dw < 1.8:\n",
        "        dw_interp = \"strong positive autocorrelation\"\n",
        "    elif  dw > 2.2:\n",
        "        dw_interp = \"strong negative autocorrelation\"\n",
        "    else:\n",
        "        dw_interp = \"little to no autocorrelation\"\n",
        "    print(\"  → Interpretation:\", dw_interp)\n",
        "\n",
        "    # 2) Breusch–Godfrey LM test\n",
        "    #    nlags=12 for monthly data\n",
        "    lm_stat, lm_pvalue, _, _ = acorr_breusch_godfrey(res, nlags=12)\n",
        "    print(f\"Breusch–Godfrey LM stat: {lm_stat:.2f}, p‐value: {lm_pvalue:.3f}\")\n",
        "    if lm_pvalue < 0.05:\n",
        "        bg_interp = \"reject H0 → residual autocorrelation present\"\n",
        "    else:\n",
        "        bg_interp = \"fail to reject H0 → no evidence of autocorrelation\"\n",
        "    print(\"  → Interpretation:\", bg_interp)\n"
      ]
    },
    {
      "cell_type": "code",
      "execution_count": null,
      "metadata": {
        "colab": {
          "base_uri": "https://localhost:8080/"
        },
        "id": "N7NETZvHZHAB",
        "outputId": "cd5bca64-e590-4763-f0c2-1078ce7dff04"
      },
      "outputs": [
        {
          "name": "stdout",
          "output_type": "stream",
          "text": [
            "\n",
            "=== AR Model ===\n",
            "Durbin–Watson statistic: 1.950\n",
            "  → Interpretation: little to no autocorrelation\n",
            "Breusch–Godfrey LM stat: 16.91, p‐value: 0.153\n",
            "  → Interpretation: fail to reject H0 → no evidence of autocorrelation\n",
            "\n",
            "=== ARIMA Model ===\n",
            "Durbin–Watson statistic: 2.074\n",
            "  → Interpretation: little to no autocorrelation\n",
            "Breusch–Godfrey LM stat: 11.91, p‐value: 0.453\n",
            "  → Interpretation: fail to reject H0 → no evidence of autocorrelation\n",
            "\n",
            "=== SARIMAX Model ===\n",
            "Durbin–Watson statistic: 2.078\n",
            "  → Interpretation: little to no autocorrelation\n",
            "Breusch–Godfrey LM stat: 16.67, p‐value: 0.163\n",
            "  → Interpretation: fail to reject H0 → no evidence of autocorrelation\n"
          ]
        }
      ],
      "source": [
        "# BIC based DW and Breusch–Godfrey LM Test\n",
        "fitted = {\n",
        "    'AR':       ar_model_bic,\n",
        "    'ARIMA':    ari_model_bic,\n",
        "    'SARIMAX':  sx_model_bic\n",
        "}\n",
        "\n",
        "for name, res in fitted.items():\n",
        "    print(f\"\\n=== {name} Model ===\")\n",
        "\n",
        "    # 1) Durbin–Watson\n",
        "    dw = durbin_watson(res.resid)\n",
        "    print(f\"Durbin–Watson statistic: {dw:.3f}\")\n",
        "    if    dw < 1.8:  dw_interp = \"strong positive autocorrelation\"\n",
        "    elif  dw > 2.2:  dw_interp = \"strong negative autocorrelation\"\n",
        "    else:            dw_interp = \"little to no autocorrelation\"\n",
        "    print(\"  → Interpretation:\", dw_interp)\n",
        "\n",
        "    # 2) Breusch–Godfrey LM test\n",
        "    #    nlags=12 for monthly data\n",
        "    lm_stat, lm_pvalue, _, _ = acorr_breusch_godfrey(res, nlags=12)\n",
        "    print(f\"Breusch–Godfrey LM stat: {lm_stat:.2f}, p‐value: {lm_pvalue:.3f}\")\n",
        "    if lm_pvalue < 0.05:\n",
        "        bg_interp = \"reject H0 → residual autocorrelation present\"\n",
        "    else:\n",
        "        bg_interp = \"fail to reject H0 → no evidence of autocorrelation\"\n",
        "    print(\"  → Interpretation:\", bg_interp)"
      ]
    },
    {
      "cell_type": "markdown",
      "metadata": {},
      "source": [
        "### AR(6) and SARIMAX((1, 0, 1), (1, 0, 1, 12)) are best chosen models"
      ]
    }
  ],
  "metadata": {
    "colab": {
      "provenance": []
    },
    "kernelspec": {
      "display_name": "Python 3",
      "name": "python3"
    },
    "language_info": {
      "name": "python"
    }
  },
  "nbformat": 4,
  "nbformat_minor": 0
}
